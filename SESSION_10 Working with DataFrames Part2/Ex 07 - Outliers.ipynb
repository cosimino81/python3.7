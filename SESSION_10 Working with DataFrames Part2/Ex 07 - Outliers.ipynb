{
 "cells": [
  {
   "cell_type": "markdown",
   "metadata": {},
   "source": [
    "# Working with DataFrame Part2\n",
    "\n",
    "## Outliers Exercises\n",
    "\n",
    "In this lecture we wiil see how we would find outliers in a dataset."
   ]
  },
  {
   "cell_type": "markdown",
   "metadata": {},
   "source": [
    "Basic imports"
   ]
  },
  {
   "cell_type": "code",
   "execution_count": 1,
   "metadata": {},
   "outputs": [],
   "source": [
    "import numpy as np\n",
    "import pandas as pd\n",
    "from pandas import Series, DataFrame"
   ]
  },
  {
   "cell_type": "markdown",
   "metadata": {},
   "source": [
    "#### We create a data frame\n",
    "Every column represent a normal distribution of random data points."
   ]
  },
  {
   "cell_type": "code",
   "execution_count": 23,
   "metadata": {},
   "outputs": [],
   "source": [
    "# First we'll seed the numpy generator\n",
    "np.random.seed(12)\n",
    "\n",
    "#Next we'll create the dataframe\n",
    "df = DataFrame(np.random.randn(1000,4))"
   ]
  },
  {
   "cell_type": "code",
   "execution_count": 24,
   "metadata": {},
   "outputs": [
    {
     "data": {
      "text/html": [
       "<div>\n",
       "<style scoped>\n",
       "    .dataframe tbody tr th:only-of-type {\n",
       "        vertical-align: middle;\n",
       "    }\n",
       "\n",
       "    .dataframe tbody tr th {\n",
       "        vertical-align: top;\n",
       "    }\n",
       "\n",
       "    .dataframe thead th {\n",
       "        text-align: right;\n",
       "    }\n",
       "</style>\n",
       "<table border=\"1\" class=\"dataframe\">\n",
       "  <thead>\n",
       "    <tr style=\"text-align: right;\">\n",
       "      <th></th>\n",
       "      <th>0</th>\n",
       "      <th>1</th>\n",
       "      <th>2</th>\n",
       "      <th>3</th>\n",
       "    </tr>\n",
       "  </thead>\n",
       "  <tbody>\n",
       "    <tr>\n",
       "      <th>0</th>\n",
       "      <td>0.472986</td>\n",
       "      <td>-0.681426</td>\n",
       "      <td>0.242439</td>\n",
       "      <td>-1.700736</td>\n",
       "    </tr>\n",
       "    <tr>\n",
       "      <th>1</th>\n",
       "      <td>0.753143</td>\n",
       "      <td>-1.534721</td>\n",
       "      <td>0.005127</td>\n",
       "      <td>-0.120228</td>\n",
       "    </tr>\n",
       "    <tr>\n",
       "      <th>2</th>\n",
       "      <td>-0.806982</td>\n",
       "      <td>2.871819</td>\n",
       "      <td>-0.597823</td>\n",
       "      <td>0.472457</td>\n",
       "    </tr>\n",
       "    <tr>\n",
       "      <th>3</th>\n",
       "      <td>1.095956</td>\n",
       "      <td>-1.215169</td>\n",
       "      <td>1.342356</td>\n",
       "      <td>-0.122150</td>\n",
       "    </tr>\n",
       "    <tr>\n",
       "      <th>4</th>\n",
       "      <td>1.012515</td>\n",
       "      <td>-0.913869</td>\n",
       "      <td>-1.029530</td>\n",
       "      <td>1.209796</td>\n",
       "    </tr>\n",
       "  </tbody>\n",
       "</table>\n",
       "</div>"
      ],
      "text/plain": [
       "          0         1         2         3\n",
       "0  0.472986 -0.681426  0.242439 -1.700736\n",
       "1  0.753143 -1.534721  0.005127 -0.120228\n",
       "2 -0.806982  2.871819 -0.597823  0.472457\n",
       "3  1.095956 -1.215169  1.342356 -0.122150\n",
       "4  1.012515 -0.913869 -1.029530  1.209796"
      ]
     },
     "execution_count": 24,
     "metadata": {},
     "output_type": "execute_result"
    }
   ],
   "source": [
    "#Show the df\n",
    "df.head()"
   ]
  },
  {
   "cell_type": "code",
   "execution_count": 27,
   "metadata": {},
   "outputs": [
    {
     "data": {
      "text/html": [
       "<div>\n",
       "<style scoped>\n",
       "    .dataframe tbody tr th:only-of-type {\n",
       "        vertical-align: middle;\n",
       "    }\n",
       "\n",
       "    .dataframe tbody tr th {\n",
       "        vertical-align: top;\n",
       "    }\n",
       "\n",
       "    .dataframe thead th {\n",
       "        text-align: right;\n",
       "    }\n",
       "</style>\n",
       "<table border=\"1\" class=\"dataframe\">\n",
       "  <thead>\n",
       "    <tr style=\"text-align: right;\">\n",
       "      <th></th>\n",
       "      <th>0</th>\n",
       "      <th>1</th>\n",
       "      <th>2</th>\n",
       "      <th>3</th>\n",
       "    </tr>\n",
       "  </thead>\n",
       "  <tbody>\n",
       "    <tr>\n",
       "      <th>count</th>\n",
       "      <td>1000.000000</td>\n",
       "      <td>1000.000000</td>\n",
       "      <td>1000.000000</td>\n",
       "      <td>1000.000000</td>\n",
       "    </tr>\n",
       "    <tr>\n",
       "      <th>mean</th>\n",
       "      <td>0.019826</td>\n",
       "      <td>-0.020608</td>\n",
       "      <td>-0.036681</td>\n",
       "      <td>-0.032079</td>\n",
       "    </tr>\n",
       "    <tr>\n",
       "      <th>std</th>\n",
       "      <td>0.994230</td>\n",
       "      <td>0.998738</td>\n",
       "      <td>0.984190</td>\n",
       "      <td>0.994405</td>\n",
       "    </tr>\n",
       "    <tr>\n",
       "      <th>min</th>\n",
       "      <td>-3.147417</td>\n",
       "      <td>-4.011049</td>\n",
       "      <td>-3.015915</td>\n",
       "      <td>-3.710679</td>\n",
       "    </tr>\n",
       "    <tr>\n",
       "      <th>25%</th>\n",
       "      <td>-0.664809</td>\n",
       "      <td>-0.719489</td>\n",
       "      <td>-0.684463</td>\n",
       "      <td>-0.710911</td>\n",
       "    </tr>\n",
       "    <tr>\n",
       "      <th>50%</th>\n",
       "      <td>0.003597</td>\n",
       "      <td>-0.028044</td>\n",
       "      <td>-0.044665</td>\n",
       "      <td>-0.035832</td>\n",
       "    </tr>\n",
       "    <tr>\n",
       "      <th>75%</th>\n",
       "      <td>0.736373</td>\n",
       "      <td>0.682833</td>\n",
       "      <td>0.620109</td>\n",
       "      <td>0.612202</td>\n",
       "    </tr>\n",
       "    <tr>\n",
       "      <th>max</th>\n",
       "      <td>3.166557</td>\n",
       "      <td>2.978985</td>\n",
       "      <td>3.529275</td>\n",
       "      <td>3.344649</td>\n",
       "    </tr>\n",
       "  </tbody>\n",
       "</table>\n",
       "</div>"
      ],
      "text/plain": [
       "                 0            1            2            3\n",
       "count  1000.000000  1000.000000  1000.000000  1000.000000\n",
       "mean      0.019826    -0.020608    -0.036681    -0.032079\n",
       "std       0.994230     0.998738     0.984190     0.994405\n",
       "min      -3.147417    -4.011049    -3.015915    -3.710679\n",
       "25%      -0.664809    -0.719489    -0.684463    -0.710911\n",
       "50%       0.003597    -0.028044    -0.044665    -0.035832\n",
       "75%       0.736373     0.682833     0.620109     0.612202\n",
       "max       3.166557     2.978985     3.529275     3.344649"
      ]
     },
     "execution_count": 27,
     "metadata": {},
     "output_type": "execute_result"
    }
   ],
   "source": [
    "# Lets describe the data\n",
    "df.describe()"
   ]
  },
  {
   "cell_type": "markdown",
   "metadata": {},
   "source": [
    "### Plot a boxplot of the column 0"
   ]
  },
  {
   "cell_type": "code",
   "execution_count": 30,
   "metadata": {},
   "outputs": [
    {
     "data": {
      "image/png": "[encoded data removed]",
      "text/plain": [
       "<Figure size 432x288 with 1 Axes>"
      ]
     },
     "metadata": {
      "needs_background": "light"
     },
     "output_type": "display_data"
    }
   ],
   "source": [
    "import matplotlib.pyplot as plt\n",
    "import seaborn as sns\n",
    "%matplotlib inline\n",
    "\n",
    "\n",
    "sns.boxplot(x=df[0])\n",
    "plt.show()"
   ]
  },
  {
   "cell_type": "markdown",
   "metadata": {},
   "source": [
    "**Note:** From the boxplot we can see that in column 0 there are a few outliers, we considere those values outlires because... "
   ]
  },
  {
   "cell_type": "markdown",
   "metadata": {},
   "source": [
    "### Plot the Kernel Density Estimate"
   ]
  },
  {
   "cell_type": "code",
   "execution_count": 34,
   "metadata": {},
   "outputs": [
    {
     "data": {
      "image/png": "[encoded data removed]",
      "text/plain": [
       "<Figure size 432x288 with 1 Axes>"
      ]
     },
     "metadata": {
      "needs_background": "light"
     },
     "output_type": "display_data"
    }
   ],
   "source": [
    "sns.kdeplot(df[0], shade=True)\n",
    "plt.show()"
   ]
  },
  {
   "cell_type": "code",
   "execution_count": 35,
   "metadata": {},
   "outputs": [],
   "source": [
    "# Lets select the first column (it will be a series)\n",
    "col = df[0]"
   ]
  },
  {
   "cell_type": "markdown",
   "metadata": {},
   "source": [
    "We can check which values in the column are greater than 3, for instance."
   ]
  },
  {
   "cell_type": "code",
   "execution_count": 36,
   "metadata": {},
   "outputs": [
    {
     "data": {
      "text/plain": [
       "12    -3.147417\n",
       "27     3.041686\n",
       "124    3.166557\n",
       "Name: 0, dtype: float64"
      ]
     },
     "execution_count": 36,
     "metadata": {},
     "output_type": "execute_result"
    }
   ],
   "source": [
    "# check the values\n",
    "col[np.abs(col)>3]"
   ]
  },
  {
   "cell_type": "markdown",
   "metadata": {},
   "source": [
    "So we now know that in column[0], rows 235 and 910 have values with abs > 3"
   ]
  },
  {
   "cell_type": "markdown",
   "metadata": {},
   "source": [
    "### How about all the columns?\n",
    "\n",
    "We can use the **any** method. It returns whether any element is True, potentially over an axis. Axis 0 by default."
   ]
  },
  {
   "cell_type": "code",
   "execution_count": 37,
   "metadata": {},
   "outputs": [
    {
     "data": {
      "text/html": [
       "<div>\n",
       "<style scoped>\n",
       "    .dataframe tbody tr th:only-of-type {\n",
       "        vertical-align: middle;\n",
       "    }\n",
       "\n",
       "    .dataframe tbody tr th {\n",
       "        vertical-align: top;\n",
       "    }\n",
       "\n",
       "    .dataframe thead th {\n",
       "        text-align: right;\n",
       "    }\n",
       "</style>\n",
       "<table border=\"1\" class=\"dataframe\">\n",
       "  <thead>\n",
       "    <tr style=\"text-align: right;\">\n",
       "      <th></th>\n",
       "      <th>0</th>\n",
       "      <th>1</th>\n",
       "      <th>2</th>\n",
       "      <th>3</th>\n",
       "    </tr>\n",
       "  </thead>\n",
       "  <tbody>\n",
       "    <tr>\n",
       "      <th>12</th>\n",
       "      <td>-3.147417</td>\n",
       "      <td>0.535136</td>\n",
       "      <td>0.232490</td>\n",
       "      <td>0.867612</td>\n",
       "    </tr>\n",
       "    <tr>\n",
       "      <th>27</th>\n",
       "      <td>3.041686</td>\n",
       "      <td>-0.626081</td>\n",
       "      <td>1.505901</td>\n",
       "      <td>-0.587336</td>\n",
       "    </tr>\n",
       "    <tr>\n",
       "      <th>60</th>\n",
       "      <td>0.224547</td>\n",
       "      <td>-1.163467</td>\n",
       "      <td>-3.015915</td>\n",
       "      <td>0.593969</td>\n",
       "    </tr>\n",
       "    <tr>\n",
       "      <th>124</th>\n",
       "      <td>3.166557</td>\n",
       "      <td>1.383956</td>\n",
       "      <td>-0.077316</td>\n",
       "      <td>-0.911826</td>\n",
       "    </tr>\n",
       "    <tr>\n",
       "      <th>137</th>\n",
       "      <td>-1.812846</td>\n",
       "      <td>0.916503</td>\n",
       "      <td>-0.888640</td>\n",
       "      <td>-3.710679</td>\n",
       "    </tr>\n",
       "    <tr>\n",
       "      <th>149</th>\n",
       "      <td>1.214205</td>\n",
       "      <td>-0.862325</td>\n",
       "      <td>-0.553625</td>\n",
       "      <td>-3.155014</td>\n",
       "    </tr>\n",
       "    <tr>\n",
       "      <th>213</th>\n",
       "      <td>-0.347810</td>\n",
       "      <td>1.281499</td>\n",
       "      <td>-0.217167</td>\n",
       "      <td>3.041318</td>\n",
       "    </tr>\n",
       "    <tr>\n",
       "      <th>263</th>\n",
       "      <td>-1.524350</td>\n",
       "      <td>-0.539390</td>\n",
       "      <td>3.087539</td>\n",
       "      <td>-0.370562</td>\n",
       "    </tr>\n",
       "    <tr>\n",
       "      <th>445</th>\n",
       "      <td>-0.284077</td>\n",
       "      <td>0.282750</td>\n",
       "      <td>0.096077</td>\n",
       "      <td>3.344649</td>\n",
       "    </tr>\n",
       "    <tr>\n",
       "      <th>591</th>\n",
       "      <td>1.303257</td>\n",
       "      <td>-1.362288</td>\n",
       "      <td>-3.015906</td>\n",
       "      <td>-0.747110</td>\n",
       "    </tr>\n",
       "    <tr>\n",
       "      <th>761</th>\n",
       "      <td>-0.173639</td>\n",
       "      <td>0.700492</td>\n",
       "      <td>3.529275</td>\n",
       "      <td>-0.229179</td>\n",
       "    </tr>\n",
       "    <tr>\n",
       "      <th>774</th>\n",
       "      <td>2.011489</td>\n",
       "      <td>-4.011049</td>\n",
       "      <td>-1.925463</td>\n",
       "      <td>-0.693331</td>\n",
       "    </tr>\n",
       "  </tbody>\n",
       "</table>\n",
       "</div>"
      ],
      "text/plain": [
       "            0         1         2         3\n",
       "12  -3.147417  0.535136  0.232490  0.867612\n",
       "27   3.041686 -0.626081  1.505901 -0.587336\n",
       "60   0.224547 -1.163467 -3.015915  0.593969\n",
       "124  3.166557  1.383956 -0.077316 -0.911826\n",
       "137 -1.812846  0.916503 -0.888640 -3.710679\n",
       "149  1.214205 -0.862325 -0.553625 -3.155014\n",
       "213 -0.347810  1.281499 -0.217167  3.041318\n",
       "263 -1.524350 -0.539390  3.087539 -0.370562\n",
       "445 -0.284077  0.282750  0.096077  3.344649\n",
       "591  1.303257 -1.362288 -3.015906 -0.747110\n",
       "761 -0.173639  0.700492  3.529275 -0.229179\n",
       "774  2.011489 -4.011049 -1.925463 -0.693331"
      ]
     },
     "execution_count": 37,
     "metadata": {},
     "output_type": "execute_result"
    }
   ],
   "source": [
    "# We can use the \"any\" method\n",
    "filtered_df = df[(np.abs(df)>3).any(1)]\n",
    "filtered_df"
   ]
  },
  {
   "cell_type": "markdown",
   "metadata": {},
   "source": [
    "### Remove outliers"
   ]
  },
  {
   "cell_type": "markdown",
   "metadata": {},
   "source": [
    "First we isolate the index of rows where we found the outlires "
   ]
  },
  {
   "cell_type": "code",
   "execution_count": 38,
   "metadata": {},
   "outputs": [
    {
     "data": {
      "text/plain": [
       "12"
      ]
     },
     "execution_count": 38,
     "metadata": {},
     "output_type": "execute_result"
    }
   ],
   "source": [
    "# grab the index\n",
    "rows = filtered_df.index\n",
    "len(rows)"
   ]
  },
  {
   "cell_type": "markdown",
   "metadata": {},
   "source": [
    "Second we drop the drows"
   ]
  },
  {
   "cell_type": "code",
   "execution_count": 39,
   "metadata": {},
   "outputs": [],
   "source": [
    "# drop the rows\n",
    "df.drop(rows, inplace=True)"
   ]
  },
  {
   "cell_type": "code",
   "execution_count": 40,
   "metadata": {},
   "outputs": [
    {
     "data": {
      "text/plain": [
       "(988, 4)"
      ]
     },
     "execution_count": 40,
     "metadata": {},
     "output_type": "execute_result"
    }
   ],
   "source": [
    "# check on the df\n",
    "df.shape"
   ]
  },
  {
   "cell_type": "markdown",
   "metadata": {},
   "source": [
    "# Nice job!"
   ]
  },
  {
   "cell_type": "code",
   "execution_count": null,
   "metadata": {},
   "outputs": [],
   "source": []
  }
 ],
 "metadata": {
  "kernelspec": {
   "display_name": "Python 3",
   "language": "python",
   "name": "python3"
  },
  "language_info": {
   "codemirror_mode": {
    "name": "ipython",
    "version": 3
   },
   "file_extension": ".py",
   "mimetype": "text/x-python",
   "name": "python",
   "nbconvert_exporter": "python",
   "pygments_lexer": "ipython3",
   "version": "3.7.3"
  }
 },
 "nbformat": 4,
 "nbformat_minor": 1
}
