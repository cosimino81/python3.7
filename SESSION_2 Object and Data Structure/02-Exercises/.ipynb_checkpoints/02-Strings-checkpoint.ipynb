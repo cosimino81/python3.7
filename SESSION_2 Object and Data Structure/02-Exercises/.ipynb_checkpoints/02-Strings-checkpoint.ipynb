{
 "cells": [
  {
   "cell_type": "markdown",
   "metadata": {},
   "source": [
    "# Strings Exercises"
   ]
  },
  {
   "cell_type": "markdown",
   "metadata": {},
   "source": [
    "## Creating strings"
   ]
  },
  {
   "cell_type": "markdown",
   "metadata": {},
   "source": [
    "1. Craete the string 'Data' and assign It to the variable x.\n",
    "2. Craete the string 'Science' and assign It to the variable y.\n",
    "3. Assign the two variables to the variable z (concatenate).\n",
    "4. Print the variable z."
   ]
  },
  {
   "cell_type": "code",
   "execution_count": null,
   "metadata": {},
   "outputs": [],
   "source": []
  },
  {
   "cell_type": "markdown",
   "metadata": {},
   "source": [
    "## Slicing Strings"
   ]
  },
  {
   "cell_type": "markdown",
   "metadata": {},
   "source": [
    "From the previouse exercise use the variable z:\n",
    "   1. Print the first element (index=0) of the string.\n",
    "   2. Print the last element of the string.\n",
    "   3. Print the sequence from the 2th element to the last.\n",
    "   4. Print the sequence from the first element to the last with the steps of 2. **[start:stop:step]** \n",
    "   5. Print evarything but NOT the last letter.\n",
    "   6. Print the string backward"
   ]
  },
  {
   "cell_type": "code",
   "execution_count": null,
   "metadata": {},
   "outputs": [],
   "source": []
  },
  {
   "cell_type": "markdown",
   "metadata": {},
   "source": [
    "## Build-in Methods"
   ]
  },
  {
   "cell_type": "markdown",
   "metadata": {},
   "source": [
    "From the first exercise use the variable z:\n",
    "1. Print all the string UPPER CASE.\n",
    "2. Print all the string lower case.\n",
    "3. Split the string on the with space.\n",
    "4. Split the string on the 'a'.\n",
    "5. Split the string on the 'e'."
   ]
  },
  {
   "cell_type": "code",
   "execution_count": null,
   "metadata": {},
   "outputs": [],
   "source": []
  },
  {
   "cell_type": "markdown",
   "metadata": {},
   "source": [
    "## String Formatting"
   ]
  },
  {
   "cell_type": "markdown",
   "metadata": {},
   "source": [
    "1. Create the varible a = 'like'\n",
    "2. Create the variable b = 'surf'\n",
    "2. Create the variable c = 'Fuerteventura!'\n",
    "3. Complete the string **'I {} to {} in {}'** using the .format() method and the two previouse variable.\n",
    "4. Complete the string like in step #3 but invert the order of the words using the index."
   ]
  },
  {
   "cell_type": "code",
   "execution_count": null,
   "metadata": {},
   "outputs": [],
   "source": []
  }
 ],
 "metadata": {
  "kernelspec": {
   "display_name": "Python 3",
   "language": "python",
   "name": "python3"
  },
  "language_info": {
   "codemirror_mode": {
    "name": "ipython",
    "version": 3
   },
   "file_extension": ".py",
   "mimetype": "text/x-python",
   "name": "python",
   "nbconvert_exporter": "python",
   "pygments_lexer": "ipython3",
   "version": "3.7.3"
  }
 },
 "nbformat": 4,
 "nbformat_minor": 2
}
